{
 "cells": [
  {
   "cell_type": "code",
   "execution_count": 6,
   "metadata": {
    "collapsed": true
   },
   "outputs": [],
   "source": [
    "from astropy.io import fits\n",
    "import numpy as np"
   ]
  },
  {
   "cell_type": "code",
   "execution_count": 30,
   "metadata": {},
   "outputs": [
    {
     "name": "stdout",
     "output_type": "stream",
     "text": [
      "BiasList.rtf    bias.0006.fits  bias.0009.fits  bias.0012.fits  bias.0015.fits\r\n",
      "BiasList.txt    bias.0007.fits  bias.0010.fits  bias.0013.fits  bias.0016.fits\r\n",
      "BiasList.txt~   bias.0008.fits  bias.0011.fits  bias.0014.fits  bias.fits\r\n"
     ]
    }
   ],
   "source": [
    "ls"
   ]
  },
  {
   "cell_type": "code",
   "execution_count": 31,
   "metadata": {},
   "outputs": [
    {
     "data": {
      "text/plain": [
       "['bias.0006.fits',\n",
       " 'bias.0007.fits',\n",
       " 'bias.0008.fits',\n",
       " 'bias.0009.fits',\n",
       " 'bias.0010.fits',\n",
       " 'bias.0011.fits',\n",
       " 'bias.0012.fits',\n",
       " 'bias.0013.fits',\n",
       " 'bias.0014.fits',\n",
       " 'bias.0015.fits',\n",
       " 'bias.0016.fits']"
      ]
     },
     "execution_count": 31,
     "metadata": {},
     "output_type": "execute_result"
    }
   ],
   "source": [
    "biasfile = [line.rstrip('\\n') for line in open('BiasList.txt')]\n",
    "biasfile"
   ]
  },
  {
   "cell_type": "code",
   "execution_count": 14,
   "metadata": {
    "collapsed": true
   },
   "outputs": [],
   "source": [
    "data_stack = []"
   ]
  },
  {
   "cell_type": "code",
   "execution_count": 32,
   "metadata": {},
   "outputs": [],
   "source": [
    "for file in biasfile:\n",
    "    data_stack.append(fits.getdata(file))"
   ]
  },
  {
   "cell_type": "code",
   "execution_count": 33,
   "metadata": {},
   "outputs": [],
   "source": [
    "header = fits.getheader(biasfile[0])\n",
    "header['HISTORY'] = 'Median Combined'\n",
    "medianBias = np.median(data_stack,axis=0) \n",
    "medianBias1 = medianBias[0]"
   ]
  },
  {
   "cell_type": "code",
   "execution_count": null,
   "metadata": {},
   "outputs": [],
   "source": [
    "fits.writeto('bias.fits', medianBias, header)"
   ]
  },
  {
   "cell_type": "code",
   "execution_count": 35,
   "metadata": {},
   "outputs": [
    {
     "name": "stdout",
     "output_type": "stream",
     "text": [
      "351.607909182\n"
     ]
    }
   ],
   "source": [
    "DatAv = np.average(data_stack[:])\n",
    "print(DatAv)"
   ]
  },
  {
   "cell_type": "code",
   "execution_count": 36,
   "metadata": {},
   "outputs": [
    {
     "name": "stdout",
     "output_type": "stream",
     "text": [
      "[351.70354319927594, 351.3568139518693, 351.65315007774245, 351.73834582627461, 351.67511638161102, 351.7116537095913, 351.40129446984287, 351.67762200923625, 351.69432572927059, 351.57523125478639, 351.49990438838739]\n"
     ]
    }
   ],
   "source": [
    "data_avg = []\n",
    "for i in data_stack:\n",
    "    data_avg.append(np.average(i))\n",
    "#average value of each of the bias frames\n",
    "print(data_avg)"
   ]
  },
  {
   "cell_type": "code",
   "execution_count": 122,
   "metadata": {},
   "outputs": [
    {
     "name": "stdout",
     "output_type": "stream",
     "text": [
      "351.607909182\n",
      "351.488653547\n"
     ]
    }
   ],
   "source": [
    "MasterAvg = np.average(data_avg)\n",
    "MasterBiasAvg = np.average(medianBias)\n",
    "print(MasterAvg)\n",
    "print(MasterBiasAvg)"
   ]
  },
  {
   "cell_type": "code",
   "execution_count": 65,
   "metadata": {
    "collapsed": true
   },
   "outputs": [],
   "source": [
    "!ls flat.00??.fits > datafiles_o.list\n",
    "!ls wolf1346_.000?.fits >> datafiles_o.list\n",
    "!ls wolf1346_m.0001.fits >> datafiles_o.list"
   ]
  },
  {
   "cell_type": "code",
   "execution_count": 3,
   "metadata": {},
   "outputs": [],
   "source": [
    "datafilesin = [line.rstrip('\\n') for line in open('/Users/George/Desktop/ASTR 480/Wolf1346/Subtraction.txt')]\n",
    "datafilesout = [line.rstrip('\\n') for line in open('/Users/George/Desktop/ASTR 480/Wolf1346/BS.txt')]\n",
    "n = len(datafilesin)"
   ]
  },
  {
   "cell_type": "code",
   "execution_count": 98,
   "metadata": {},
   "outputs": [
    {
     "name": "stdout",
     "output_type": "stream",
     "text": [
      "['flat.0005.fits', 'flat.0006.fits', 'flat.0007.fits', 'flat.0008.fits', 'flat.0009.fits', 'flat.0010.fits', 'flat.0011.fits', 'flat.0012.fits', 'flat.0013.fits', 'flat.0014.fits', 'flat.0015.fits', 'flat.0016.fits', 'flat.0017.fits', 'flat.0018.fits', 'flat.0019.fits', 'flat.0020.fits', 'flat.0021.fits', 'flat.0022.fits', 'flat.0023.fits', 'flat.0024.fits', 'flat.0025.fits', 'flat.0026.fits', 'flat.0027.fits', 'flat.0028.fits', 'flat.0029.fits', 'flat.0030.fits', 'flat.0031.fits', 'flat.0032.fits', 'flat.0033.fits', 'flat.0034.fits', 'flat.0035.fits', 'flat.0036.fits', 'flat.0037.fits', 'flat.0038.fits', 'flat.0039.fits', 'flat.0040.fits', 'flat.0041.fits', 'wolf1346_.0001.fits', 'wolf1346_.0002.fits', 'wolf1346_.0003.fits', 'wolf1346_m.0001.fits']\n"
     ]
    }
   ],
   "source": [
    "print(datafilesin)"
   ]
  },
  {
   "cell_type": "code",
   "execution_count": 105,
   "metadata": {},
   "outputs": [
    {
     "name": "stdout",
     "output_type": "stream",
     "text": [
      "['Bflat.0005.fits', 'Bflat.0006.fits', 'Bflat.0007.fits', 'Bflat.0008.fits', 'Bflat.0009.fits', 'Bflat.0010.fits', 'Bflat.0011.fits', 'Bflat.0012.fits', 'Bflat.0013.fits', 'Bflat.0014.fits', 'Bflat.0015.fits', 'Bflat.0016.fits', 'Bflat.0017.fits', 'Bflat.0018.fits', 'Bflat.0019.fits', 'Bflat.0020.fits', 'Bflat.0021.fits', 'Bflat.0022.fits', 'Bflat.0023.fits', 'Bflat.0024.fits', 'Bflat.0025.fits', 'Bflat.0026.fits', 'Bflat.0027.fits', 'Bflat.0028.fits', 'Bflat.0029.fits', 'Bflat.0030.fits', 'Bflat.0031.fits', 'Bflat.0032.fits', 'Bflat.0033.fits', 'Bflat.0034.fits', 'Bflat.0035.fits', 'Bflat.0036.fits', 'Bflat.0037.fits', 'Bflat.0038.fits', 'Bflat.0039.fits', 'Bflat.0040.fits', 'Bflat.0041.fits', 'Bwolf1346_.0001.fits', 'Bwolf1346_.0002.fits', 'Bwolf1346_.0003.fits', 'Bwolf1346_m.0001.fits', '']\n"
     ]
    }
   ],
   "source": [
    "print(datafilesout)"
   ]
  },
  {
   "cell_type": "code",
   "execution_count": null,
   "metadata": {
    "collapsed": true
   },
   "outputs": [],
   "source": [
    "for i in range(0, n):\n",
    "    data,header = fits.getdata(datafilesin[i],header=True)\n",
    "    dataout = data - medianBias\n",
    "    #header['HISTORY'] = 'Bias subtracted'\n",
    "    fits.writeto(datafilesout[i],dataout)"
   ]
  },
  {
   "cell_type": "code",
   "execution_count": 114,
   "metadata": {},
   "outputs": [
    {
     "name": "stderr",
     "output_type": "stream",
     "text": [
      "WARNING: VerifyWarning: Verification reported errors: [astropy.io.fits.verify]\n",
      "WARNING: VerifyWarning: Card 'CD1_1' is not FITS standard (invalid value string: '+NAN                 / WCS (1/InstScaleX)*cos(InstAng)').  Fixed 'CD1_1' card to meet the FITS standard. [astropy.io.fits.verify]\n",
      "WARNING: VerifyWarning: Note: astropy.io.fits uses zero-based indexing.\n",
      " [astropy.io.fits.verify]\n",
      "WARNING: VerifyWarning: Card 'CD1_2' is not FITS standard (invalid value string: '+NAN                 / WCS (1/InstScaleY)*sin(InstAng)').  Fixed 'CD1_2' card to meet the FITS standard. [astropy.io.fits.verify]\n",
      "WARNING: VerifyWarning: Card 'CD2_1' is not FITS standard (invalid value string: '+NAN                 / WCS (-1/(InstScaleX)*sin(InstAng)').  Fixed 'CD2_1' card to meet the FITS standard. [astropy.io.fits.verify]\n",
      "WARNING: VerifyWarning: Card 'CD2_2' is not FITS standard (invalid value string: '+NAN                 / WCS (1/InstScaleY)*cos(InstAng)').  Fixed 'CD2_2' card to meet the FITS standard. [astropy.io.fits.verify]\n"
     ]
    },
    {
     "data": {
      "text/plain": [
       "SIMPLE  =                    T / file does conform to FITS standard             \n",
       "BITPIX  =                   16 / number of bits per data pixel                  \n",
       "NAXIS   =                    2 / number of data axes                            \n",
       "NAXIS1  =                 2102 / length of data axis 1                          \n",
       "NAXIS2  =                 2050 / length of data axis 2                          \n",
       "EXTEND  =                    T / FITS dataset may contain extensions            \n",
       "OBSERVAT= 'APO'                / Per the IRAF observatory list.                 \n",
       "TELESCOP= '3.5m'                                                                \n",
       "INSTRUME= 'arctic'             / Instrument name                                \n",
       "LATITUDE= +3.2780361000000E+01 / Latitude of telescope base                     \n",
       "LONGITUD= -1.0582041700000E+02 / Longitude of telescope base                    \n",
       "TIMESYS = 'TAI'                / Time system for DATE-OBS                       \n",
       "UTC-TAI = -37.0                / UTC = TAI + UTC_TAI(seconds)                   \n",
       "UT1-TAI = -36.61               / UT1 = TAI + UT1_TAI(seconds)                   \n",
       "LST     = '21:01:39.563'       / Local Apperent Sidereal time                   \n",
       "OBJNAME = ''                   / Object name, per TCC ObjName                   \n",
       "RADECSYS= 'Mount'              / Coordinate system, per TCC ObjSys              \n",
       "AIRPRESS= +7.2692000000000E+04 / Air pressure, Pascals                          \n",
       "HUMIDITY= +5.3000000000000E-01 / Humidity, fraction                             \n",
       "TELAZ   = +1.0399977100000E+02 / TCC AxePos azimuth                             \n",
       "TELALT  = +1.0001192000000E+01 / TCC AxePos altitude                            \n",
       "TELROT  = -1.6500000000000E-02 / TCC AxePos rotator                             \n",
       "TELFOCUS= +6.0300000000000E+02 / TCC SecFocus                                   \n",
       "ZD      = +7.9998808000000E+01 / Zenith distance                                \n",
       "AIRMASS = +5.7580911034102E+00 / 1/cos(ZD)                                      \n",
       "BOREOFFX= +0.0000000000000E+00 / TCC boresight offset X                         \n",
       "BOREOFFY= +0.0000000000000E+00 / TCC boresight offset Y                         \n",
       "FILENAME= 'flat.0005.fits'     / original filename                              \n",
       "CTYPE1  = 'RA---TAN'           / WCS projection                                 \n",
       "CTYPE2  = 'DEC--TAN'           / WCS projection                                 \n",
       "CRPIX1  = +1.0000000000000E+03 / WCS reference pixel                            \n",
       "CRPIX2  = +1.0000000000000E+03 / WCS reference pixel                            \n",
       "RA      = '6:56:00.00'         / RA hours, extrapolated from TCC ObjNetPos      \n",
       "DEC     = '10:00:00.00'        / Dec degrees, extrapolated from TCC ObjNetPos   \n",
       "CRVAL1  = +1.0400000000000E+02 / WCS reference sky pos.                         \n",
       "CRVAL2  = +1.0000000000000E+01 / WCS reference sky pos.                         \n",
       "CD1_1   = '+NAN    '           / WCS (1/InstScaleX)*cos(InstAng)                \n",
       "CD1_2   = '+NAN    '           / WCS (1/InstScaleY)*sin(InstAng)                \n",
       "CD2_1   = '+NAN    '           / WCS (-1/(InstScaleX)*sin(InstAng)              \n",
       "CD2_2   = '+NAN    '           / WCS (1/InstScaleY)*cos(InstAng)                \n",
       "COMMENT   FITS (Flexible Image Transport System) format is defined in 'Astronomy\n",
       "COMMENT   and Astrophysics', volume 376, page 359; bibcode: 2001A&A...376..359H \n",
       "BZERO   =                32768 / offset data range to that of unsigned short    \n",
       "BSCALE  =                    1 / default scaling factor                         \n",
       "DATE-OBS= '2017-05-24T11:56:27.583355' / TAI time at the start of the exposure  \n",
       "FILPOS  =                    5 / filter position                                \n",
       "FILTER  = 'Wash M  '           / filter name                                    \n",
       "BEGX    =                    1 / beginning column of CCD window                 \n",
       "BEGY    =                    1 / beginning row of CCD window                    \n",
       "BINX    =                    2 / column bin factor                              \n",
       "BINY    =                    2 / row bin factor                                 \n",
       "CCDBIN1 =                    2 / column bin factor                              \n",
       "CCDBIN2 =                    2 / row bin factor                                 \n",
       "IMAGETYP= 'Flat    '           / exposure type                                  \n",
       "EXPTIME =                  3.0 / estimated exposure time (sec)                  \n",
       "READAMPS= 'Quad    '           / readout amplifier(s)                           \n",
       "READRATE= 'Medium  '           / readout rate                                   \n",
       "CCDHEAD =                186.8 / CCD cold head temperature (K)                  \n",
       "CCDTEMP =                151.0 / CCD temperature (K)                            \n",
       "CCDHEAT =                 67.5 / CCD heater level (percent)                     \n",
       "DIFFUPOS= 'OUT     '           / Diffuser positon, in or out of the beam.       \n",
       "DIFFUROT= 'OFF     '           / Diffuser rotating.                             \n",
       "AMPLIST = '11 12 21 22'        / amplifiers read <x><y> e.g. 12=LR              \n",
       "CSEC11  = '[1:2048,1:2048]'    / data section of CCD (unbinned)                 \n",
       "DSEC11  = '[3:1026,1:1024]'    / data section of image (binned)                 \n",
       "BSEC11  = '[1029:1051,1:1024]' / bias section of image (binned)                 \n",
       "GTGAIN11=                 1.97 / predicted gain (e-/ADU)                        \n",
       "GTRON11 =                  3.9 / predicted read noise (e-)                      \n",
       "CSEC12  = '[1:2048,2049:4096]' / data section of CCD (unbinned)                 \n",
       "DSEC12  = '[3:1026,1027:2050]' / data section of image (binned)                 \n",
       "BSEC12  = '[1029:1051,1027:2050]' / bias section of image (binned)              \n",
       "GTGAIN12=                 1.95 / predicted gain (e-/ADU)                        \n",
       "GTRON12 =                  3.9 / predicted read noise (e-)                      \n",
       "CSEC21  = '[2049:4096,1:2048]' / data section of CCD (unbinned)                 \n",
       "DSEC21  = '[1077:2100,1:1024]' / data section of image (binned)                 \n",
       "BSEC21  = '[1052:1074,1:1024]' / bias section of image (binned)                 \n",
       "GTGAIN21=                 1.95 / predicted gain (e-/ADU)                        \n",
       "GTRON21 =                  3.9 / predicted read noise (e-)                      \n",
       "CSEC22  = '[2049:4096,2049:4096]' / data section of CCD (unbinned)              \n",
       "DSEC22  = '[1077:2100,1027:2050]' / data section of image (binned)              \n",
       "BSEC22  = '[1052:1074,1027:2050]' / bias section of image (binned)              \n",
       "GTGAIN22=                 1.97 / predicted gain (e-/ADU)                        \n",
       "GTRON22 =                  3.8 / predicted read noise (e-)                      "
      ]
     },
     "execution_count": 114,
     "metadata": {},
     "output_type": "execute_result"
    }
   ],
   "source": [
    "fits.getheader(datafilesin[0])"
   ]
  },
  {
   "cell_type": "code",
   "execution_count": null,
   "metadata": {},
   "outputs": [],
   "source": []
  },
  {
   "cell_type": "code",
   "execution_count": 41,
   "metadata": {},
   "outputs": [],
   "source": [
    "FilterList = [line.rstrip('\\n') for line in open('/Users/George/Desktop/ASTR 480/Wolf1346/Subtraction.txt')]\n",
    "n = len(FilterList)\n",
    "FilterSet = []\n",
    "for i in np.arange(n):\n",
    "    data, header = fits.getdata(FilterList[i], header=True)\n",
    "    FilterSet.append(header['FILTER'])"
   ]
  },
  {
   "cell_type": "code",
   "execution_count": 43,
   "metadata": {},
   "outputs": [
    {
     "data": {
      "text/plain": [
       "['Wash M',\n",
       " 'Wash M',\n",
       " 'Wash M',\n",
       " 'Wash M',\n",
       " 'Wash M',\n",
       " 'Wash M',\n",
       " 'Wash M',\n",
       " 'Wash M',\n",
       " 'Wash M',\n",
       " 'Wash M',\n",
       " 'Wash M',\n",
       " 'Wash M',\n",
       " 'J-C Rc',\n",
       " 'J-C Rc',\n",
       " 'J-C Rc',\n",
       " 'J-C Rc',\n",
       " 'J-C Rc',\n",
       " 'J-C Rc',\n",
       " 'J-C Rc',\n",
       " 'J-C Rc',\n",
       " 'J-C Rc',\n",
       " 'J-C Rc',\n",
       " 'J-C Rc',\n",
       " 'J-C Rc',\n",
       " 'J-C Rc',\n",
       " 'J-C Rc',\n",
       " 'J-C Rc',\n",
       " 'J-C Rc',\n",
       " 'J-C Rc',\n",
       " 'J-C Rc',\n",
       " 'J-C Rc',\n",
       " 'J-C Rc',\n",
       " 'J-C Rc',\n",
       " 'J-C Rc',\n",
       " 'J-C Rc',\n",
       " 'J-C Rc',\n",
       " 'J-C Rc']"
      ]
     },
     "execution_count": 43,
     "metadata": {},
     "output_type": "execute_result"
    }
   ],
   "source": [
    "FilterSet[:-4]"
   ]
  },
  {
   "cell_type": "code",
   "execution_count": 134,
   "metadata": {},
   "outputs": [
    {
     "data": {
      "text/plain": [
       "['bias.0006.fits',\n",
       " 'bias.0007.fits',\n",
       " 'bias.0008.fits',\n",
       " 'bias.0009.fits',\n",
       " 'bias.0010.fits',\n",
       " 'bias.0011.fits',\n",
       " 'bias.0012.fits',\n",
       " 'bias.0013.fits',\n",
       " 'bias.0014.fits',\n",
       " 'bias.0015.fits',\n",
       " 'bias.0016.fits']"
      ]
     },
     "execution_count": 134,
     "metadata": {},
     "output_type": "execute_result"
    }
   ],
   "source": [
    "overscanfile = [line.rstrip('\\n') for line in open('/Users/George/Desktop/ASTR 480/Wolf1346/Subtracted/SubtractList.txt')]\n",
    "overscanfile"
   ]
  },
  {
   "cell_type": "code",
   "execution_count": 141,
   "metadata": {
    "collapsed": true
   },
   "outputs": [],
   "source": [
    "datafilesin2 = [line.rstrip('\\n') for line in open('/Users/George/Desktop/ASTR 480/Wolf1346/Subtracted/SubtractList.txt')]\n",
    "datafilesout2 = [line.rstrip('\\n') for line in open('/Users/George/Desktop/ASTR 480/Wolf1346/Subtracted/OverscanList.txt')]\n",
    "n = len(datafilesin)"
   ]
  },
  {
   "cell_type": "code",
   "execution_count": 147,
   "metadata": {
    "collapsed": true
   },
   "outputs": [],
   "source": [
    "for i in range(0, n):\n",
    "    data = fits.getdata(datafilesin2[i])\n",
    "    dataout1 = np.delete(data, np.s_[1026:1078], axis=1)\n",
    "    dataout2 = np.delete(dataout1, np.s_[1024:1028], axis=0)\n",
    "    #header['HISTORY'] = 'Bias subtracted'\n",
    "    fits.writeto(datafilesout2[i],dataout2, overwrite=True)"
   ]
  },
  {
   "cell_type": "code",
   "execution_count": null,
   "metadata": {
    "collapsed": true
   },
   "outputs": [],
   "source": []
  }
 ],
 "metadata": {
  "kernelspec": {
   "display_name": "Python 2",
   "language": "python",
   "name": "python2"
  },
  "language_info": {
   "codemirror_mode": {
    "name": "ipython",
    "version": 2
   },
   "file_extension": ".py",
   "mimetype": "text/x-python",
   "name": "python",
   "nbconvert_exporter": "python",
   "pygments_lexer": "ipython2",
   "version": "2.7.14"
  }
 },
 "nbformat": 4,
 "nbformat_minor": 2
}
